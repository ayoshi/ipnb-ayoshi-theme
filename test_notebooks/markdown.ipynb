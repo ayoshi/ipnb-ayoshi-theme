{
 "metadata": {
  "name": "",
  "signature": "sha256:72710535250b9651ef1fa8e8d1ba7eeda92e6eb55163618f7b312f8ca7848075"
 },
 "nbformat": 3,
 "nbformat_minor": 0,
 "worksheets": [
  {
   "cells": [
    {
     "cell_type": "markdown",
     "metadata": {},
     "source": [
      "# Nullique testantia positasque in ista casias cognovit\n",
      "\n",
      "## Arbor clamoribus harenas nullum serior\n",
      "\n",
      "| Lorem|Markdownum|Fluctus|\n",
      "|-|-|-|\n",
      "| A|solacia|   12 |\n",
      "| B |tantummodo|   1 |\n",
      "\n",
      "Lorem markdownum in eadem *Dryopen*, nescio vidit enim, Damasicthona luco, vati.\n",
      "Illum iam solacia ille **dubita inducere pleno** sum adorat tantummodo intenta\n",
      "avoque.\n",
      "\n",
      "``` javascript\n",
      "    iterationText(5);\n",
      "    var vrml_cold = dns_binary(hashtag_plug, cisc_dvd_burn + pdf_captcha_zero,\n",
      "            refresh) + default_api_lock(gbps, 2);\n",
      "```\n",
      "\n",
      "**Plausus mercede** modo haberet fissus rogant nomen, cupiens liquescunt sed\n",
      "etiam, tremuere iaculum. Exstabat cur *amicos* occumbere lues, obstet nec nescit\n",
      "Thessalus quaerit, verba iam erit, flores!\n",
      "\n",
      "## Pollentibus frena obortis Aeolia\n",
      "\n",
      ">Male feci ab sit et Aesarei negat deus in ferro fulmineos fluctus undae aliter\n",
      ">tergo exhibita fassurae. Corporeasque genus, ursos velox alimenta relaxant in\n",
      ">gravior placuit, qui. Ille nobis quia timorem veribus; ara **confessam fulgure**\n",
      ">dedit et plura Nonacria cernis crura haut.\n",
      "\n",
      "- Pater opiferque parte\n",
      "- Miracula et Procne studium et atras\n",
      "- Est Proserpina portentificisque rapidas conscendunt hac corpora\n",
      "\n",
      "\n",
      "1. Illis pallentemque lotos me inrita comae vestros\n",
      "2. Coniuge deos freta\n",
      "3. Ardentibus formae ruinas\n",
      "\n",
      "In elementaque verso adhuc mergit culpa. Fore ora se os *ait e*! Facit feris ab\n",
      "aether lepus monstra traderet modo. Esse rogat tellus nobis folioque collis\n",
      "nequiquam et ferri stupet! Prosiliunt ecce."
     ]
    },
    {
     "cell_type": "code",
     "collapsed": false,
     "input": [],
     "language": "python",
     "metadata": {},
     "outputs": []
    }
   ],
   "metadata": {}
  }
 ]
}